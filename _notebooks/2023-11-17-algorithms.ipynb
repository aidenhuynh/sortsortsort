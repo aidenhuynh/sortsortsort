{
 "cells": [
  {
   "attachments": {},
   "cell_type": "markdown",
   "metadata": {},
   "source": [
    "---\n",
    "layout: post\n",
    "title: Sorting Algorithms Test\n",
    "description: Creating different sorting methods and testing inheritance\n",
    "courses: { csa: {week: 13} }\n",
    "categories: []\n",
    "type: tangibles\n",
    "---"
   ]
  },
  {
   "attachments": {},
   "cell_type": "markdown",
   "metadata": {},
   "source": [
    "## Globals"
   ]
  },
  {
   "cell_type": "code",
   "execution_count": 9,
   "metadata": {
    "vscode": {
     "languageId": "java"
    }
   },
   "outputs": [],
   "source": [
    "// Initialize test array for sorting\n",
    "public int[] test = new int[]{1, 5, 6, 3, 78, 2, 2};\n",
    "\n",
    "// Method for displaying array\n",
    "public String printArr(int[] arr) {\n",
    "    // Show start of list\n",
    "    String text = \"[\";\n",
    "\n",
    "    // Add elements to list String\n",
    "    for (int i = 0; i < arr.length; i ++) {\n",
    "        text += arr[i];\n",
    "\n",
    "        // Add commas if not last element in list\n",
    "        if (i != arr.length - 1) {\n",
    "            text += \", \";\n",
    "        }\n",
    "    }\n",
    "\n",
    "    // Add end of list\n",
    "    text += \"]\";\n",
    "\n",
    "    return text;\n",
    "}"
   ]
  },
  {
   "attachments": {},
   "cell_type": "markdown",
   "metadata": {},
   "source": [
    "## Selection Sort"
   ]
  },
  {
   "attachments": {},
   "cell_type": "markdown",
   "metadata": {},
   "source": [
    "### For loop"
   ]
  },
  {
   "cell_type": "code",
   "execution_count": 21,
   "metadata": {
    "vscode": {
     "languageId": "java"
    }
   },
   "outputs": [
    {
     "data": {
      "text/plain": [
       "[1, 2, 2, 3, 5, 6, 78]"
      ]
     },
     "execution_count": 21,
     "metadata": {},
     "output_type": "execute_result"
    }
   ],
   "source": [
    "private static int[] selectionFor(int[] arr) {\n",
    "    // For loop to iterate through whole array, except last value because it will already be sorted by then\n",
    "    for (int i = 0; i < arr.length - 1; i ++) {\n",
    "        // Define the minimum index by setting it to the first element not iterated yet\n",
    "        int minIndex = i;\n",
    "\n",
    "        // For loop to iterate through all elements after previous run\n",
    "        for (int j = i + 1; j < arr.length; j ++) {\n",
    "            // If selected value is lower than current minimum, set the new minimum\n",
    "            if (arr[j] < arr[minIndex]) {\n",
    "                minIndex = j;\n",
    "            }\n",
    "        }\n",
    "\n",
    "        // If the minimum is different from the current value, swap them\n",
    "        if (minIndex != i) {\n",
    "            int temp = arr[i];\n",
    "            arr[i] = arr[minIndex];\n",
    "            arr[minIndex] = temp;\n",
    "        }\n",
    "    }\n",
    "\n",
    "    return arr;\n",
    "}\n",
    "\n",
    "printArr(selectionFor(test));"
   ]
  },
  {
   "attachments": {},
   "cell_type": "markdown",
   "metadata": {},
   "source": [
    "### While Loop"
   ]
  },
  {
   "cell_type": "code",
   "execution_count": null,
   "metadata": {
    "vscode": {
     "languageId": "java"
    }
   },
   "outputs": [
    {
     "data": {
      "text/plain": [
       "[1, 2, 2, 3, 5, 6, 78]"
      ]
     },
     "execution_count": 4,
     "metadata": {},
     "output_type": "execute_result"
    }
   ],
   "source": [
    "private static int[] selectionWhile(int[] arr) {\n",
    "    // While loop to iterate through whole array, except last value because it will already be sorted by then\n",
    "    int i = 0;\n",
    "    while (i < arr.length - 1) {\n",
    "        // Define the minimum index by setting it to the first element not iterated yet\n",
    "        int minIndex = i;\n",
    "\n",
    "        // While loop to iterate through all elements after previous run\n",
    "        int j = i + 1;\n",
    "        while (j < arr.length) {\n",
    "            // If selected value is lower than current minimum, set the new minimum\n",
    "            if (arr[j] < arr[minIndex]) {\n",
    "                minIndex = j;\n",
    "            }\n",
    "\n",
    "            j += 1;\n",
    "        }\n",
    "\n",
    "        // If the minimum is different from the current value, swap them\n",
    "        if (minIndex != i) {\n",
    "            int temp = arr[i];\n",
    "            arr[i] = arr[minIndex];\n",
    "            arr[minIndex] = temp;\n",
    "        }\n",
    "\n",
    "        i += 1;\n",
    "    }\n",
    "\n",
    "    return arr;\n",
    "}\n",
    "\n",
    "printArr(insertionWhile(test));"
   ]
  },
  {
   "attachments": {},
   "cell_type": "markdown",
   "metadata": {},
   "source": [
    "## Recursive"
   ]
  },
  {
   "cell_type": "code",
   "execution_count": null,
   "metadata": {
    "vscode": {
     "languageId": "java"
    }
   },
   "outputs": [
    {
     "data": {
      "text/plain": [
       "[1, 2, 2, 3, 5, 6, 78]"
      ]
     },
     "execution_count": 6,
     "metadata": {},
     "output_type": "execute_result"
    }
   ],
   "source": [
    "private static int[] selectionRecur(int[] arr, int n) {\n",
    "  if (n == arr.length - 1) {\n",
    "    return arr;\n",
    "  }\n",
    "\n",
    "  int minIndex = n;\n",
    "  for (int j = n + 1; j < arr.length; j++) {\n",
    "      if (arr[j] < arr[minIndex]) {\n",
    "          minIndex = j;\n",
    "      }\n",
    "  }\n",
    "\n",
    "  if (minIndex != n) {\n",
    "      // Swap arr[startIndex] and arr[minIndex]\n",
    "      int temp = arr[n];\n",
    "      arr[n] = arr[minIndex];\n",
    "      arr[minIndex] = temp;\n",
    "  }\n",
    "\n",
    "  // Recursive call for the next index\n",
    "  selectionRecur(arr, n + 1);\n",
    "\n",
    "  return arr;\n",
    "}\n",
    "\n",
    "printArr(selectionRecur(test, 0));"
   ]
  },
  {
   "attachments": {},
   "cell_type": "markdown",
   "metadata": {},
   "source": [
    "## Bubble Sort"
   ]
  },
  {
   "attachments": {},
   "cell_type": "markdown",
   "metadata": {},
   "source": [
    "### For loop"
   ]
  },
  {
   "cell_type": "code",
   "execution_count": 16,
   "metadata": {
    "vscode": {
     "languageId": "java"
    }
   },
   "outputs": [
    {
     "data": {
      "text/plain": [
       "[1, 2, 2, 3, 5, 6, 78]"
      ]
     },
     "execution_count": 16,
     "metadata": {},
     "output_type": "execute_result"
    }
   ],
   "source": [
    "private static int[] bubbleFor(int[] arr) {\n",
    "    for (int i = 0; i < arr.length - 1; i ++) {\n",
    "        for (int j = 0; j < arr.length - i - 1; j ++) {\n",
    "            if (arr[j] > arr[j + 1]) {\n",
    "                int temp = arr[j];\n",
    "                arr[j] = arr[j + 1];\n",
    "                arr[j + 1] = temp;\n",
    "            }\n",
    "        }\n",
    "    }\n",
    "    return arr;\n",
    "}\n",
    "\n",
    "printArr(bubbleFor(test));"
   ]
  },
  {
   "attachments": {},
   "cell_type": "markdown",
   "metadata": {},
   "source": [
    "### While loop"
   ]
  },
  {
   "cell_type": "code",
   "execution_count": 19,
   "metadata": {
    "vscode": {
     "languageId": "java"
    }
   },
   "outputs": [
    {
     "data": {
      "text/plain": [
       "[1, 2, 2, 3, 5, 6, 78]"
      ]
     },
     "execution_count": 19,
     "metadata": {},
     "output_type": "execute_result"
    }
   ],
   "source": [
    "private static int[] bubbleWhile(int[] arr) {\n",
    "    int i = 0;\n",
    "    while (i < arr.length - 1) {\n",
    "        int j = 0;\n",
    "\n",
    "        while (j < arr.length - i - 1) {\n",
    "            if (arr[j] > arr[j + 1]) {\n",
    "                int temp = arr[j];\n",
    "                arr[j] = arr[j + 1];\n",
    "                arr[j + 1] = temp;\n",
    "            }\n",
    "\n",
    "            j++;\n",
    "        }\n",
    "\n",
    "        i++;\n",
    "    }\n",
    "    return arr;\n",
    "}\n",
    "\n",
    "printArr(bubbleWhile(test));"
   ]
  },
  {
   "attachments": {},
   "cell_type": "markdown",
   "metadata": {},
   "source": [
    "### Recursive"
   ]
  },
  {
   "cell_type": "code",
   "execution_count": null,
   "metadata": {
    "vscode": {
     "languageId": "java"
    }
   },
   "outputs": [
    {
     "data": {
      "text/plain": [
       "[1, 2, 2, 3, 5, 6, 78]"
      ]
     },
     "execution_count": 44,
     "metadata": {},
     "output_type": "execute_result"
    }
   ],
   "source": [
    "private static int[] bubbleRecur(int[] arr) {\n",
    "    for (int i = 0; i < arr.length - 1; i ++) {\n",
    "        if (arr[i] > arr[i + 1]) {\n",
    "            int temp = arr[i];\n",
    "            arr[i] = arr[i + 1];\n",
    "            arr[i + 1] = temp;\n",
    "            bubbleRecur(arr);\n",
    "        }\n",
    "    }\n",
    "    return arr;\n",
    "}\n",
    "\n",
    "printArr(bubbleRecur(test));"
   ]
  }
 ],
 "metadata": {
  "kernelspec": {
   "display_name": "Java",
   "language": "java",
   "name": "java"
  },
  "language_info": {
   "codemirror_mode": "java",
   "file_extension": ".jshell",
   "mimetype": "text/x-java-source",
   "name": "Java",
   "pygments_lexer": "java",
   "version": "20.0.2+9-78"
  },
  "orig_nbformat": 4
 },
 "nbformat": 4,
 "nbformat_minor": 2
}
