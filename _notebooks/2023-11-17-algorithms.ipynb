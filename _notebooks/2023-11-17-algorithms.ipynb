{
 "cells": [
  {
   "attachments": {},
   "cell_type": "markdown",
   "metadata": {},
   "source": [
    "---\n",
    "layout: post\n",
    "title: Sorting Algorithms Test\n",
    "description: Creating different sorting methods and testing inheritance\n",
    "courses: { csa: {week: 13} }\n",
    "categories: []\n",
    "type: tangibles\n",
    "---"
   ]
  },
  {
   "attachments": {},
   "cell_type": "markdown",
   "metadata": {},
   "source": [
    "## Globals"
   ]
  },
  {
   "cell_type": "code",
   "execution_count": 9,
   "metadata": {
    "vscode": {
     "languageId": "java"
    }
   },
   "outputs": [],
   "source": [
    "// Initialize test array for sorting\n",
    "public int[] test = new int[]{1, 5, 6, 3, 78, 2, 2};\n",
    "\n",
    "// Method for displaying array\n",
    "public String printArr(int[] arr) {\n",
    "    // Show start of list\n",
    "    String text = \"[\";\n",
    "\n",
    "    // Add elements to list String\n",
    "    for (int i = 0; i < arr.length; i ++) {\n",
    "        text += arr[i];\n",
    "\n",
    "        // Add commas if not last element in list\n",
    "        if (i != arr.length - 1) {\n",
    "            text += \", \";\n",
    "        }\n",
    "    }\n",
    "\n",
    "    // Add end of list\n",
    "    text += \"]\";\n",
    "\n",
    "    return text;\n",
    "}"
   ]
  },
  {
   "attachments": {},
   "cell_type": "markdown",
   "metadata": {},
   "source": [
    "## Selection Sort"
   ]
  },
  {
   "attachments": {},
   "cell_type": "markdown",
   "metadata": {},
   "source": [
    "### For loop"
   ]
  },
  {
   "cell_type": "code",
   "execution_count": 21,
   "metadata": {
    "vscode": {
     "languageId": "java"
    }
   },
   "outputs": [
    {
     "data": {
      "text/plain": [
       "[1, 2, 2, 3, 5, 6, 78]"
      ]
     },
     "execution_count": 21,
     "metadata": {},
     "output_type": "execute_result"
    }
   ],
   "source": [
    "private static int[] selectionFor(int[] arr) {\n",
    "    // For loop to iterate through whole array, except last value because it will already be sorted by then\n",
    "    for (int i = 0; i < arr.length - 1; i ++) {\n",
    "        // Define the minimum index by setting it to the first element not iterated yet\n",
    "        int minIndex = i;\n",
    "\n",
    "        // For loop to iterate through all elements after previous run\n",
    "        for (int j = i + 1; j < arr.length; j ++) {\n",
    "            // If selected value is lower than current minimum, set the new minimum\n",
    "            if (arr[j] < arr[minIndex]) {\n",
    "                minIndex = j;\n",
    "            }\n",
    "        }\n",
    "\n",
    "        // If the minimum is different from the current value, swap them\n",
    "        if (minIndex != i) {\n",
    "            int temp = arr[i];\n",
    "            arr[i] = arr[minIndex];\n",
    "            arr[minIndex] = temp;\n",
    "        }\n",
    "    }\n",
    "\n",
    "    return arr;\n",
    "}\n",
    "\n",
    "printArr(selectionFor(test));"
   ]
  },
  {
   "attachments": {},
   "cell_type": "markdown",
   "metadata": {},
   "source": [
    "### While Loop"
   ]
  },
  {
   "cell_type": "code",
   "execution_count": null,
   "metadata": {
    "vscode": {
     "languageId": "java"
    }
   },
   "outputs": [
    {
     "data": {
      "text/plain": [
       "[1, 2, 2, 3, 5, 6, 78]"
      ]
     },
     "execution_count": 4,
     "metadata": {},
     "output_type": "execute_result"
    }
   ],
   "source": [
    "private static int[] selectionWhile(int[] arr) {\n",
    "    // While loop to iterate through whole array, except last value because it will already be sorted by then\n",
    "    int i = 0;\n",
    "    while (i < arr.length - 1) {\n",
    "        // Define the minimum index by setting it to the first element not iterated yet\n",
    "        int minIndex = i;\n",
    "\n",
    "        // While loop to iterate through all elements after previous run\n",
    "        int j = i + 1;\n",
    "        while (j < arr.length) {\n",
    "            // If selected value is lower than current minimum, set the new minimum\n",
    "            if (arr[j] < arr[minIndex]) {\n",
    "                minIndex = j;\n",
    "            }\n",
    "\n",
    "            j += 1;\n",
    "        }\n",
    "\n",
    "        // If the minimum is different from the current value, swap them\n",
    "        if (minIndex != i) {\n",
    "            int temp = arr[i];\n",
    "            arr[i] = arr[minIndex];\n",
    "            arr[minIndex] = temp;\n",
    "        }\n",
    "\n",
    "        i += 1;\n",
    "    }\n",
    "\n",
    "    return arr;\n",
    "}\n",
    "\n",
    "printArr(insertionWhile(test));"
   ]
  },
  {
   "attachments": {},
   "cell_type": "markdown",
   "metadata": {},
   "source": [
    "## Recursive"
   ]
  },
  {
   "cell_type": "code",
   "execution_count": 42,
   "metadata": {
    "vscode": {
     "languageId": "java"
    }
   },
   "outputs": [
    {
     "data": {
      "text/plain": [
       "[1, 2, 2, 3, 5, 6, 78]"
      ]
     },
     "execution_count": 42,
     "metadata": {},
     "output_type": "execute_result"
    }
   ],
   "source": [
    "private static int[] selectionRecur(int[] arr, int n) {\n",
    "  // If passing the last element in the array, stop\n",
    "  if (n == arr.length - 1) {\n",
    "    return arr;\n",
    "  }\n",
    "\n",
    "  // Set minimum index to current\n",
    "  int minIndex = n;\n",
    "  \n",
    "  // If different value is less than current minimum, set minIndex to that value's index\n",
    "  for (int j = n + 1; j < arr.length; j++) {\n",
    "      if (arr[j] < arr[minIndex]) {\n",
    "          minIndex = j;\n",
    "      }\n",
    "  }\n",
    "\n",
    "  // Swap minimum with initial index\n",
    "  if (minIndex != n) {\n",
    "      int temp = arr[n];\n",
    "      arr[n] = arr[minIndex];\n",
    "      arr[minIndex] = temp;\n",
    "  }\n",
    "\n",
    "  // Recursive call for the next index\n",
    "  selectionRecur(arr, n + 1);\n",
    "\n",
    "  return arr;\n",
    "}\n",
    "\n",
    "printArr(selectionRecur(test, 0));"
   ]
  },
  {
   "attachments": {},
   "cell_type": "markdown",
   "metadata": {},
   "source": [
    "## Bubble Sort"
   ]
  },
  {
   "attachments": {},
   "cell_type": "markdown",
   "metadata": {},
   "source": [
    "### For loop"
   ]
  },
  {
   "cell_type": "code",
   "execution_count": 16,
   "metadata": {
    "vscode": {
     "languageId": "java"
    }
   },
   "outputs": [
    {
     "data": {
      "text/plain": [
       "[1, 2, 2, 3, 5, 6, 78]"
      ]
     },
     "execution_count": 16,
     "metadata": {},
     "output_type": "execute_result"
    }
   ],
   "source": [
    "private static int[] bubbleFor(int[] arr) {\n",
    "    // Iterate through list\n",
    "    for (int i = 0; i < arr.length - 1; i ++) {\n",
    "        // Iterate through previous element in list\n",
    "        for (int j = 0; j < arr.length - i - 1; j ++) {\n",
    "            // Swap if necessary\n",
    "            if (arr[j] > arr[j + 1]) {\n",
    "                int temp = arr[j];\n",
    "                arr[j] = arr[j + 1];\n",
    "                arr[j + 1] = temp;\n",
    "            }\n",
    "        }\n",
    "    }\n",
    "    return arr;\n",
    "}\n",
    "\n",
    "printArr(bubbleFor(test));"
   ]
  },
  {
   "attachments": {},
   "cell_type": "markdown",
   "metadata": {},
   "source": [
    "### While loop"
   ]
  },
  {
   "cell_type": "code",
   "execution_count": 19,
   "metadata": {
    "vscode": {
     "languageId": "java"
    }
   },
   "outputs": [
    {
     "data": {
      "text/plain": [
       "[1, 2, 2, 3, 5, 6, 78]"
      ]
     },
     "execution_count": 19,
     "metadata": {},
     "output_type": "execute_result"
    }
   ],
   "source": [
    "private static int[] bubbleWhile(int[] arr) {\n",
    "    int i = 0;\n",
    "    while (i < arr.length - 1) {\n",
    "        int j = 0;\n",
    "\n",
    "        while (j < arr.length - i - 1) {\n",
    "            if (arr[j] > arr[j + 1]) {\n",
    "                int temp = arr[j];\n",
    "                arr[j] = arr[j + 1];\n",
    "                arr[j + 1] = temp;\n",
    "            }\n",
    "\n",
    "            j++;\n",
    "        }\n",
    "\n",
    "        i++;\n",
    "    }\n",
    "    return arr;\n",
    "}\n",
    "\n",
    "printArr(bubbleWhile(test));"
   ]
  },
  {
   "attachments": {},
   "cell_type": "markdown",
   "metadata": {},
   "source": [
    "### Recursive"
   ]
  },
  {
   "cell_type": "code",
   "execution_count": null,
   "metadata": {
    "vscode": {
     "languageId": "java"
    }
   },
   "outputs": [
    {
     "data": {
      "text/plain": [
       "[1, 2, 2, 3, 5, 6, 78]"
      ]
     },
     "execution_count": 44,
     "metadata": {},
     "output_type": "execute_result"
    }
   ],
   "source": [
    "private static int[] bubbleRecur(int[] arr) {\n",
    "    for (int i = 0; i < arr.length - 1; i ++) {\n",
    "        if (arr[i] > arr[i + 1]) {\n",
    "            int temp = arr[i];\n",
    "            arr[i] = arr[i + 1];\n",
    "            arr[i + 1] = temp;\n",
    "            bubbleRecur(arr);\n",
    "        }\n",
    "    }\n",
    "    return arr;\n",
    "}\n",
    "\n",
    "printArr(bubbleRecur(test));"
   ]
  },
  {
   "attachments": {},
   "cell_type": "markdown",
   "metadata": {},
   "source": [
    "## Inheritance Testing"
   ]
  },
  {
   "cell_type": "code",
   "execution_count": null,
   "metadata": {
    "vscode": {
     "languageId": "java"
    }
   },
   "outputs": [],
   "source": []
  },
  {
   "cell_type": "code",
   "execution_count": 59,
   "metadata": {
    "vscode": {
     "languageId": "java"
    }
   },
   "outputs": [
    {
     "ename": "UnresolvedReferenceException",
     "evalue": "Attempt to use definition snippet with unresolved references in Snippet:ClassKey(Selection)#42-\n\npublic class Selection extends Sort {\n    int[] arr = super.array;\n\n    public int[] forLoop() {\n        int[] arr = this.arr;\n\n        // For loop to iterate through whole array, except last value because it will already be sorted by then\n        for (int i = 0; i < arr.length - 1; i ++) {\n            // Define the minimum index by setting it to the first element not iterated yet\n            int minIndex = i;\n\n            // For loop to iterate through all elements after previous run\n            for (int j = i + 1; j < arr.length; j ++) {\n                // If selected value is lower than current minimum, set the new minimum\n                if (arr[j] < arr[minIndex]) {\n                    minIndex = j;\n                }\n            }\n\n            // If the minimum is different from the current value, swap them\n            if (minIndex != i) {\n                int temp = arr[i];\n                arr[i] = arr[minIndex];\n                arr[minIndex] = temp;\n            }\n        }\n\n        return arr;\n    }\n\n    private int[] whileLoop() {\n        int[] arr = this.arr;\n\n        // While loop to iterate through whole array, except last value because it will already be sorted by then\n        int i = 0;\n        while (i < arr.length - 1) {\n            // Define the minimum index by setting it to the first element not iterated yet\n            int minIndex = i;\n    \n            // While loop to iterate through all elements after previous run\n            int j = i + 1;\n            while (j < arr.length) {\n                // If selected value is lower than current minimum, set the new minimum\n                if (arr[j] < arr[minIndex]) {\n                    minIndex = j;\n                }\n    \n                j += 1;\n            }\n    \n            // If the minimum is different from the current value, swap them\n            if (minIndex != i) {\n                int temp = arr[i];\n                arr[i] = arr[minIndex];\n                arr[minIndex] = temp;\n            }\n    \n            i += 1;\n        }\n    \n        return arr;\n    }\n\n    private int[] recursive() {\n        int[] arr = this.arr;\n        return recursiveSwap(0);\n    }\n\n    private int[] recursiveSwap(int n) {\n        // If passing the last element in the array, stop\n        if (n == arr.length - 1) {\n          return arr;\n        }\n      \n        // Set minimum index to current\n        int minIndex = n;\n        \n        // If different value is less than current minimum, set minIndex to that value's index\n        for (int j = n + 1; j < arr.length; j++) {\n            if (arr[j] < arr[minIndex]) {\n                minIndex = j;\n            }\n        }\n      \n        // Swap minimum with initial index\n        if (minIndex != n) {\n            int temp = arr[n];\n            arr[n] = arr[minIndex];\n            arr[minIndex] = temp;\n        }\n      \n        // Recursive call for the next index\n        recursiveSwap(arr, n + 1);\n      \n        return arr;\n    }\n}",
     "output_type": "error",
     "traceback": []
    }
   ],
   "source": [
    "import java.util.ArrayList;\n",
    "\n",
    "public class Sort {\n",
    "    double time;\n",
    "    int[] array;\n",
    "    ArrayList swaps = new ArrayList();\n",
    "\n",
    "    // array setter\n",
    "    public void setArray(int[] arr) {\n",
    "        this.array = arr;\n",
    "    }\n",
    "\n",
    "    // Method for adding each swap\n",
    "    public void swap(int i, int j) {\n",
    "        this.swaps.add(i);\n",
    "        this.swaps.add(j);\n",
    "    }\n",
    "\n",
    "    // Method for displaying array\n",
    "    public String printArr() {\n",
    "        // Show start of list\n",
    "        String text = \"[\";\n",
    "        int[] arr = this.array;\n",
    "\n",
    "        // Add elements to list String\n",
    "        for (int i = 0; i < arr.length; i ++) {\n",
    "            text += arr[i];\n",
    "\n",
    "            // Add commas if not last element in list\n",
    "            if (i != arr.length - 1) {\n",
    "                text += \", \";\n",
    "            }\n",
    "        }\n",
    "\n",
    "        // Add end of list\n",
    "        text += \"]\";\n",
    "\n",
    "        return text;\n",
    "    }\n",
    "}\n",
    "\n",
    "public class Selection extends Sort {\n",
    "    int[] arr = super.array;\n",
    "\n",
    "    public int[] forLoop() {\n",
    "        int[] arr = this.arr;\n",
    "\n",
    "        // For loop to iterate through whole array, except last value because it will already be sorted by then\n",
    "        for (int i = 0; i < arr.length - 1; i ++) {\n",
    "            // Define the minimum index by setting it to the first element not iterated yet\n",
    "            int minIndex = i;\n",
    "\n",
    "            // For loop to iterate through all elements after previous run\n",
    "            for (int j = i + 1; j < arr.length; j ++) {\n",
    "                // If selected value is lower than current minimum, set the new minimum\n",
    "                if (arr[j] < arr[minIndex]) {\n",
    "                    minIndex = j;\n",
    "                }\n",
    "            }\n",
    "\n",
    "            // If the minimum is different from the current value, swap them\n",
    "            if (minIndex != i) {\n",
    "                int temp = arr[i];\n",
    "                arr[i] = arr[minIndex];\n",
    "                arr[minIndex] = temp;\n",
    "            }\n",
    "        }\n",
    "\n",
    "        return arr;\n",
    "    }\n",
    "\n",
    "    private int[] whileLoop() {\n",
    "        int[] arr = this.arr;\n",
    "\n",
    "        // While loop to iterate through whole array, except last value because it will already be sorted by then\n",
    "        int i = 0;\n",
    "        while (i < arr.length - 1) {\n",
    "            // Define the minimum index by setting it to the first element not iterated yet\n",
    "            int minIndex = i;\n",
    "    \n",
    "            // While loop to iterate through all elements after previous run\n",
    "            int j = i + 1;\n",
    "            while (j < arr.length) {\n",
    "                // If selected value is lower than current minimum, set the new minimum\n",
    "                if (arr[j] < arr[minIndex]) {\n",
    "                    minIndex = j;\n",
    "                }\n",
    "    \n",
    "                j += 1;\n",
    "            }\n",
    "    \n",
    "            // If the minimum is different from the current value, swap them\n",
    "            if (minIndex != i) {\n",
    "                int temp = arr[i];\n",
    "                arr[i] = arr[minIndex];\n",
    "                arr[minIndex] = temp;\n",
    "            }\n",
    "    \n",
    "            i += 1;\n",
    "        }\n",
    "    \n",
    "        return arr;\n",
    "    }\n",
    "\n",
    "    private int[] recursive() {\n",
    "        int[] arr = this.arr;\n",
    "        return recursiveSwap(0);\n",
    "    }\n",
    "\n",
    "    private int[] recursiveSwap(int n) {\n",
    "        // If passing the last element in the array, stop\n",
    "        if (n == arr.length - 1) {\n",
    "          return arr;\n",
    "        }\n",
    "      \n",
    "        // Set minimum index to current\n",
    "        int minIndex = n;\n",
    "        \n",
    "        // If different value is less than current minimum, set minIndex to that value's index\n",
    "        for (int j = n + 1; j < arr.length; j++) {\n",
    "            if (arr[j] < arr[minIndex]) {\n",
    "                minIndex = j;\n",
    "            }\n",
    "        }\n",
    "      \n",
    "        // Swap minimum with initial index\n",
    "        if (minIndex != n) {\n",
    "            int temp = arr[n];\n",
    "            arr[n] = arr[minIndex];\n",
    "            arr[minIndex] = temp;\n",
    "        }\n",
    "      \n",
    "        // Recursive call for the next index\n",
    "        recursiveSwap(arr, n + 1);\n",
    "      \n",
    "        return arr;\n",
    "    }\n",
    "}\n",
    "\n",
    "Sort algorithm = new Selection();\n",
    "// algorithm.setArray([0, 3, 2, 1]);\n",
    "\n"
   ]
  }
 ],
 "metadata": {
  "kernelspec": {
   "display_name": "Java",
   "language": "java",
   "name": "java"
  },
  "language_info": {
   "codemirror_mode": "java",
   "file_extension": ".jshell",
   "mimetype": "text/x-java-source",
   "name": "Java",
   "pygments_lexer": "java",
   "version": "20.0.2+9-78"
  },
  "orig_nbformat": 4
 },
 "nbformat": 4,
 "nbformat_minor": 2
}
